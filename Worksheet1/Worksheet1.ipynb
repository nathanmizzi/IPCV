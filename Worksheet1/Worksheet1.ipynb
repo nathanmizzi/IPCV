{
 "cells": [
  {
   "cell_type": "markdown",
   "source": [
    "1.\tCreate a matrix M with values M = [2 4 6 8; 10 20 30 40; 5 10 15 20]"
   ],
   "metadata": {
    "collapsed": false
   }
  },
  {
   "cell_type": "code",
   "execution_count": 34,
   "outputs": [
    {
     "name": "stdout",
     "output_type": "stream",
     "text": [
      "[[ 2  4  6  8]\n",
      " [10 20 30 40]\n",
      " [ 5 10 15 20]]\n"
     ]
    }
   ],
   "source": [
    "import numpy as np\n",
    "\n",
    "M = np.array([[2,4,6,8],[10,20,30,40],[5,10,15,20]], dtype='uint8')\n",
    "\n",
    "print(M)"
   ],
   "metadata": {
    "collapsed": false
   }
  },
  {
   "cell_type": "markdown",
   "source": [
    "2.\tGet the 2nd row of M by using the colon operator"
   ],
   "metadata": {
    "collapsed": false
   }
  },
  {
   "cell_type": "code",
   "execution_count": 11,
   "outputs": [
    {
     "name": "stdout",
     "output_type": "stream",
     "text": [
      "[[10 20 30 40]]\n"
     ]
    }
   ],
   "source": [
    "print(M[1:2])"
   ],
   "metadata": {
    "collapsed": false
   }
  },
  {
   "cell_type": "markdown",
   "source": [
    "3.\tGet the 4th column of M by using the colon operator :"
   ],
   "metadata": {
    "collapsed": false
   }
  },
  {
   "cell_type": "code",
   "execution_count": 27,
   "outputs": [
    {
     "name": "stdout",
     "output_type": "stream",
     "text": [
      "[ 8 40 20]\n"
     ]
    }
   ],
   "source": [
    "print(M[:,3])"
   ],
   "metadata": {
    "collapsed": false
   }
  },
  {
   "cell_type": "markdown",
   "source": [
    "4.\tAssign all elements of M greater than 9 the value 0"
   ],
   "metadata": {
    "collapsed": false
   }
  },
  {
   "cell_type": "code",
   "execution_count": 32,
   "outputs": [
    {
     "name": "stdout",
     "output_type": "stream",
     "text": [
      "[[2 4 6 8]\n",
      " [0 0 0 0]\n",
      " [5 0 0 0]]\n"
     ]
    }
   ],
   "source": [
    "M[M > 9] = 0\n",
    "print(M)"
   ],
   "metadata": {
    "collapsed": false
   }
  },
  {
   "cell_type": "code",
   "execution_count": 35,
   "outputs": [
    {
     "name": "stdout",
     "output_type": "stream",
     "text": [
      "[[ 2  4  6  8]\n",
      " [10 20 30 40]\n",
      " [ 5 10 15 20]]\n",
      "\n",
      "\n",
      "[[2 4 6 8]\n",
      " [0 0 0 0]\n",
      " [5 0 0 0]]\n"
     ]
    }
   ],
   "source": [
    "print(M)\n",
    "print(\"\\n\")\n",
    "\n",
    "shape = M.shape\n",
    "\n",
    "for x in range(0, shape[0]):\n",
    "    for y in range(0, shape[1]):\n",
    "        if M[x, y] > 9:\n",
    "            M[x, y] = 0\n",
    "\n",
    "print(M)"
   ],
   "metadata": {
    "collapsed": false
   }
  },
  {
   "cell_type": "markdown",
   "source": [
    "5.\tCreate a matrix M2 of random integers (0-255) in the size of M. Then display it as a grayscale image."
   ],
   "metadata": {
    "collapsed": false
   }
  },
  {
   "cell_type": "code",
   "execution_count": 76,
   "outputs": [
    {
     "name": "stdout",
     "output_type": "stream",
     "text": [
      "[[118 118 101 120]\n",
      " [106 108 117  84]\n",
      " [142  78 131  51]]\n"
     ]
    },
    {
     "data": {
      "text/plain": "<Figure size 432x288 with 1 Axes>",
      "image/png": "[encoded data removed]"
     },
     "metadata": {
      "needs_background": "light"
     },
     "output_type": "display_data"
    }
   ],
   "source": [
    "M2 = np.random.randint(0,256,M.shape,dtype=\"uint8\")\n",
    "print(M2)\n",
    "\n",
    "import matplotlib.pyplot as plt\n",
    "import matplotlib.cm as cm\n",
    "\n",
    "plt.imshow(M2,cmap=cm.gray,vmin=0,vmax=255)\n",
    "plt.show()"
   ],
   "metadata": {
    "collapsed": false
   }
  },
  {
   "cell_type": "markdown",
   "source": [
    "6.\tCreate an RGB image M3 of size 100 by 200 pixels. Colour the left half orange and the right half blue, as follows. Display the image and also save it."
   ],
   "metadata": {
    "collapsed": false
   }
  },
  {
   "cell_type": "code",
   "execution_count": 102,
   "outputs": [
    {
     "data": {
      "text/plain": "<Figure size 432x288 with 1 Axes>",
      "image/png": "[encoded data removed]"
     },
     "metadata": {
      "needs_background": "light"
     },
     "output_type": "display_data"
    }
   ],
   "source": [
    "import numpy as np\n",
    "import matplotlib.pyplot as plt\n",
    "from PIL import Image\n",
    "\n",
    "M3 = np.zeros([100,200,3], dtype=\"uint8\")\n",
    "\n",
    "M3[:, 0:100] = [255,128, 0]\n",
    "M3[:, 100:200] = [0, 0, 255]\n",
    "\n",
    "#                       r    g    b\n",
    "# The color orange is [255, 128, 0]\n",
    "# The color blue is   [ 0 , 0, 255]\n",
    "\n",
    "plt.imshow(M3)\n",
    "Image.fromarray(M3).save(\"orange_blue.png\")"
   ],
   "metadata": {
    "collapsed": false
   }
  },
  {
   "cell_type": "markdown",
   "source": [
    "7.\tCopy the code in question 6. Name the matrix M4, and add to it such that the image becomes RGBA, i.e. has a 4th channel (which is transparency). Experiment with different transparency levels. What does 0 transparency mean? What is the other extreme?"
   ],
   "metadata": {
    "collapsed": false
   }
  },
  {
   "cell_type": "code",
   "execution_count": null,
   "outputs": [],
   "source": [],
   "metadata": {
    "collapsed": false
   }
  }
 ],
 "metadata": {
  "kernelspec": {
   "display_name": "Python 3",
   "language": "python",
   "name": "python3"
  },
  "language_info": {
   "codemirror_mode": {
    "name": "ipython",
    "version": 2
   },
   "file_extension": ".py",
   "mimetype": "text/x-python",
   "name": "python",
   "nbconvert_exporter": "python",
   "pygments_lexer": "ipython2",
   "version": "2.7.6"
  }
 },
 "nbformat": 4,
 "nbformat_minor": 0
}
